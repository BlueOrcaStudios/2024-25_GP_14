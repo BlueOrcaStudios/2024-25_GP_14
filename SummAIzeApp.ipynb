{
  "cells": [
    {
      "cell_type": "markdown",
      "metadata": {
        "id": "view-in-github",
        "colab_type": "text"
      },
      "source": [
        "<a href=\"https://colab.research.google.com/github/Shadenalturki/2024-25_GP_14/blob/main/SummAIzeApp.ipynb\" target=\"_parent\"><img src=\"https://colab.research.google.com/assets/colab-badge.svg\" alt=\"Open In Colab\"/></a>"
      ]
    },
    {
      "cell_type": "code",
      "execution_count": null,
      "metadata": {
        "colab": {
          "base_uri": "https://localhost:8080/"
        },
        "id": "ZPhPtyyFUnuw",
        "outputId": "da73fb7a-78dd-49a5-9e59-889a906dbf0c"
      },
      "outputs": [
        {
          "name": "stdout",
          "output_type": "stream",
          "text": [
            "\u001b[?25l     \u001b[90m━━━━━━━━━━━━━━━━━━━━━━━━━━━━━━━━━━━━━━━━\u001b[0m \u001b[32m0.0/44.1 kB\u001b[0m \u001b[31m?\u001b[0m eta \u001b[36m-:--:--\u001b[0m\r\u001b[2K     \u001b[90m━━━━━━━━━━━━━━━━━━━━━━━━━━━━━━━━━━━━━━━━\u001b[0m \u001b[32m44.1/44.1 kB\u001b[0m \u001b[31m1.9 MB/s\u001b[0m eta \u001b[36m0:00:00\u001b[0m\n",
            "\u001b[?25h  Preparing metadata (setup.py) ... \u001b[?25l\u001b[?25hdone\n",
            "\u001b[2K   \u001b[90m━━━━━━━━━━━━━━━━━━━━━━━━━━━━━━━━━━━━━━━━\u001b[0m \u001b[32m122.4/122.4 MB\u001b[0m \u001b[31m18.9 MB/s\u001b[0m eta \u001b[36m0:00:00\u001b[0m\n",
            "\u001b[2K   \u001b[90m━━━━━━━━━━━━━━━━━━━━━━━━━━━━━━━━━━━━━━━━\u001b[0m \u001b[32m10.0/10.0 MB\u001b[0m \u001b[31m116.0 MB/s\u001b[0m eta \u001b[36m0:00:00\u001b[0m\n",
            "\u001b[2K   \u001b[90m━━━━━━━━━━━━━━━━━━━━━━━━━━━━━━━━━━━━━━━━\u001b[0m \u001b[32m57.1/57.1 MB\u001b[0m \u001b[31m37.2 MB/s\u001b[0m eta \u001b[36m0:00:00\u001b[0m\n",
            "\u001b[2K   \u001b[90m━━━━━━━━━━━━━━━━━━━━━━━━━━━━━━━━━━━━━━━━\u001b[0m \u001b[32m320.1/320.1 kB\u001b[0m \u001b[31m21.3 MB/s\u001b[0m eta \u001b[36m0:00:00\u001b[0m\n",
            "\u001b[2K   \u001b[90m━━━━━━━━━━━━━━━━━━━━━━━━━━━━━━━━━━━━━━━━\u001b[0m \u001b[32m84.0/84.0 kB\u001b[0m \u001b[31m7.1 MB/s\u001b[0m eta \u001b[36m0:00:00\u001b[0m\n",
            "\u001b[2K   \u001b[90m━━━━━━━━━━━━━━━━━━━━━━━━━━━━━━━━━━━━━━━━\u001b[0m \u001b[32m61.1/61.1 kB\u001b[0m \u001b[31m4.7 MB/s\u001b[0m eta \u001b[36m0:00:00\u001b[0m\n",
            "\u001b[2K   \u001b[90m━━━━━━━━━━━━━━━━━━━━━━━━━━━━━━━━━━━━━━━━\u001b[0m \u001b[32m94.9/94.9 kB\u001b[0m \u001b[31m8.6 MB/s\u001b[0m eta \u001b[36m0:00:00\u001b[0m\n",
            "\u001b[2K   \u001b[90m━━━━━━━━━━━━━━━━━━━━━━━━━━━━━━━━━━━━━━━━\u001b[0m \u001b[32m63.8/63.8 kB\u001b[0m \u001b[31m4.9 MB/s\u001b[0m eta \u001b[36m0:00:00\u001b[0m\n",
            "\u001b[2K   \u001b[90m━━━━━━━━━━━━━━━━━━━━━━━━━━━━━━━━━━━━━━━━\u001b[0m \u001b[32m103.0/103.0 kB\u001b[0m \u001b[31m9.2 MB/s\u001b[0m eta \u001b[36m0:00:00\u001b[0m\n",
            "\u001b[2K   \u001b[90m━━━━━━━━━━━━━━━━━━━━━━━━━━━━━━━━━━━━━━━━\u001b[0m \u001b[32m232.6/232.6 kB\u001b[0m \u001b[31m20.5 MB/s\u001b[0m eta \u001b[36m0:00:00\u001b[0m\n",
            "\u001b[2K   \u001b[90m━━━━━━━━━━━━━━━━━━━━━━━━━━━━━━━━━━━━━━━━\u001b[0m \u001b[32m1.0/1.0 MB\u001b[0m \u001b[31m49.5 MB/s\u001b[0m eta \u001b[36m0:00:00\u001b[0m\n",
            "\u001b[2K   \u001b[90m━━━━━━━━━━━━━━━━━━━━━━━━━━━━━━━━━━━━━━━━\u001b[0m \u001b[32m2.4/2.4 MB\u001b[0m \u001b[31m69.7 MB/s\u001b[0m eta \u001b[36m0:00:00\u001b[0m\n",
            "\u001b[2K   \u001b[90m━━━━━━━━━━━━━━━━━━━━━━━━━━━━━━━━━━━━━━━━\u001b[0m \u001b[32m480.6/480.6 kB\u001b[0m \u001b[31m31.1 MB/s\u001b[0m eta \u001b[36m0:00:00\u001b[0m\n",
            "\u001b[2K   \u001b[90m━━━━━━━━━━━━━━━━━━━━━━━━━━━━━━━━━━━━━━━━\u001b[0m \u001b[32m116.3/116.3 kB\u001b[0m \u001b[31m10.7 MB/s\u001b[0m eta \u001b[36m0:00:00\u001b[0m\n",
            "\u001b[2K   \u001b[90m━━━━━━━━━━━━━━━━━━━━━━━━━━━━━━━━━━━━━━━━\u001b[0m \u001b[32m179.3/179.3 kB\u001b[0m \u001b[31m16.0 MB/s\u001b[0m eta \u001b[36m0:00:00\u001b[0m\n",
            "\u001b[2K   \u001b[90m━━━━━━━━━━━━━━━━━━━━━━━━━━━━━━━━━━━━━━━━\u001b[0m \u001b[32m409.5/409.5 kB\u001b[0m \u001b[31m26.7 MB/s\u001b[0m eta \u001b[36m0:00:00\u001b[0m\n",
            "\u001b[2K   \u001b[90m━━━━━━━━━━━━━━━━━━━━━━━━━━━━━━━━━━━━━━━━\u001b[0m \u001b[32m134.8/134.8 kB\u001b[0m \u001b[31m11.3 MB/s\u001b[0m eta \u001b[36m0:00:00\u001b[0m\n",
            "\u001b[2K   \u001b[90m━━━━━━━━━━━━━━━━━━━━━━━━━━━━━━━━━━━━━━━━\u001b[0m \u001b[32m11.1/11.1 MB\u001b[0m \u001b[31m104.6 MB/s\u001b[0m eta \u001b[36m0:00:00\u001b[0m\n",
            "\u001b[2K   \u001b[90m━━━━━━━━━━━━━━━━━━━━━━━━━━━━━━━━━━━━━━━━\u001b[0m \u001b[32m3.1/3.1 MB\u001b[0m \u001b[31m87.7 MB/s\u001b[0m eta \u001b[36m0:00:00\u001b[0m\n",
            "\u001b[2K   \u001b[90m━━━━━━━━━━━━━━━━━━━━━━━━━━━━━━━━━━━━━━━━\u001b[0m \u001b[32m73.2/73.2 kB\u001b[0m \u001b[31m6.8 MB/s\u001b[0m eta \u001b[36m0:00:00\u001b[0m\n",
            "\u001b[2K   \u001b[90m━━━━━━━━━━━━━━━━━━━━━━━━━━━━━━━━━━━━━━━━\u001b[0m \u001b[32m194.1/194.1 kB\u001b[0m \u001b[31m18.2 MB/s\u001b[0m eta \u001b[36m0:00:00\u001b[0m\n",
            "\u001b[2K   \u001b[90m━━━━━━━━━━━━━━━━━━━━━━━━━━━━━━━━━━━━━━━━\u001b[0m \u001b[32m49.5/49.5 kB\u001b[0m \u001b[31m4.4 MB/s\u001b[0m eta \u001b[36m0:00:00\u001b[0m\n",
            "\u001b[2K   \u001b[90m━━━━━━━━━━━━━━━━━━━━━━━━━━━━━━━━━━━━━━━━\u001b[0m \u001b[32m130.2/130.2 kB\u001b[0m \u001b[31m12.3 MB/s\u001b[0m eta \u001b[36m0:00:00\u001b[0m\n",
            "\u001b[?25h  Building wheel for rouge-score (setup.py) ... \u001b[?25l\u001b[?25hdone\n",
            "\u001b[31mERROR: pip's dependency resolver does not currently take into account all the packages that are installed. This behaviour is the source of the following dependency conflicts.\n",
            "gcsfs 2024.10.0 requires fsspec==2024.10.0, but you have fsspec 2024.9.0 which is incompatible.\u001b[0m\u001b[31m\n",
            "\u001b[0mRequirement already satisfied: flask in /usr/local/lib/python3.10/dist-packages (3.1.0)\n",
            "Collecting flask-ngrok\n",
            "  Downloading flask_ngrok-0.0.25-py3-none-any.whl.metadata (1.8 kB)\n",
            "Requirement already satisfied: Werkzeug>=3.1 in /usr/local/lib/python3.10/dist-packages (from flask) (3.1.3)\n",
            "Requirement already satisfied: Jinja2>=3.1.2 in /usr/local/lib/python3.10/dist-packages (from flask) (3.1.4)\n",
            "Requirement already satisfied: itsdangerous>=2.2 in /usr/local/lib/python3.10/dist-packages (from flask) (2.2.0)\n",
            "Requirement already satisfied: click>=8.1.3 in /usr/local/lib/python3.10/dist-packages (from flask) (8.1.7)\n",
            "Requirement already satisfied: blinker>=1.9 in /usr/local/lib/python3.10/dist-packages (from flask) (1.9.0)\n",
            "Requirement already satisfied: requests in /usr/local/lib/python3.10/dist-packages (from flask-ngrok) (2.32.3)\n",
            "Requirement already satisfied: MarkupSafe>=2.0 in /usr/local/lib/python3.10/dist-packages (from Jinja2>=3.1.2->flask) (2.1.5)\n",
            "Requirement already satisfied: charset-normalizer<4,>=2 in /usr/local/lib/python3.10/dist-packages (from requests->flask-ngrok) (3.4.0)\n",
            "Requirement already satisfied: idna<4,>=2.5 in /usr/local/lib/python3.10/dist-packages (from requests->flask-ngrok) (3.10)\n",
            "Requirement already satisfied: urllib3<3,>=1.21.1 in /usr/local/lib/python3.10/dist-packages (from requests->flask-ngrok) (2.2.3)\n",
            "Requirement already satisfied: certifi>=2017.4.17 in /usr/local/lib/python3.10/dist-packages (from requests->flask-ngrok) (2024.8.30)\n",
            "Downloading flask_ngrok-0.0.25-py3-none-any.whl (3.1 kB)\n",
            "Installing collected packages: flask-ngrok\n",
            "Successfully installed flask-ngrok-0.0.25\n"
          ]
        }
      ],
      "source": [
        "# Install Required Libraries\n",
        "!pip install --quiet --upgrade \\\n",
        "    bitsandbytes accelerate text-generation transformers langchainhub \\\n",
        "    sentencepiece gradio evaluate rouge-score nltk bert_score \\\n",
        "    fastapi uvicorn pyngrok flask flask-cors PyPDF2 torch langchain langchain_community\n",
        "!pip install flask flask-ngrok"
      ]
    },
    {
      "cell_type": "code",
      "execution_count": null,
      "metadata": {
        "colab": {
          "base_uri": "https://localhost:8080/"
        },
        "id": "rxgRSeWqzrD3",
        "outputId": "d3a429f2-fa46-4e31-b167-aaae4899c8cf"
      },
      "outputs": [
        {
          "name": "stdout",
          "output_type": "stream",
          "text": [
            "Collecting pypdf\n",
            "  Downloading pypdf-5.1.0-py3-none-any.whl.metadata (7.2 kB)\n",
            "Requirement already satisfied: typing_extensions>=4.0 in /usr/local/lib/python3.10/dist-packages (from pypdf) (4.12.2)\n",
            "Downloading pypdf-5.1.0-py3-none-any.whl (297 kB)\n",
            "\u001b[?25l   \u001b[90m━━━━━━━━━━━━━━━━━━━━━━━━━━━━━━━━━━━━━━━━\u001b[0m \u001b[32m0.0/298.0 kB\u001b[0m \u001b[31m?\u001b[0m eta \u001b[36m-:--:--\u001b[0m\r\u001b[2K   \u001b[91m━━━━━━━━━━━━━━━━\u001b[0m\u001b[90m╺\u001b[0m\u001b[90m━━━━━━━━━━━━━━━━━━━━━━━\u001b[0m \u001b[32m122.9/298.0 kB\u001b[0m \u001b[31m3.6 MB/s\u001b[0m eta \u001b[36m0:00:01\u001b[0m\r\u001b[2K   \u001b[90m━━━━━━━━━━━━━━━━━━━━━━━━━━━━━━━━━━━━━━━━\u001b[0m \u001b[32m298.0/298.0 kB\u001b[0m \u001b[31m4.9 MB/s\u001b[0m eta \u001b[36m0:00:00\u001b[0m\n",
            "\u001b[?25hInstalling collected packages: pypdf\n",
            "Successfully installed pypdf-5.1.0\n"
          ]
        }
      ],
      "source": [
        "!pip install pypdf"
      ]
    },
    {
      "cell_type": "code",
      "execution_count": null,
      "metadata": {
        "id": "5Vf0CIkc7ICS"
      },
      "outputs": [],
      "source": [
        "from flask import Flask, request, jsonify\n",
        "from flask_ngrok import run_with_ngrok\n",
        "from transformers import AutoTokenizer, AutoModelForCausalLM, pipeline, BitsAndBytesConfig\n",
        "from langchain_community.document_loaders import PyPDFLoader\n",
        "from io import BytesIO\n",
        "import tempfile\n",
        "import torch"
      ]
    },
    {
      "cell_type": "code",
      "execution_count": null,
      "metadata": {
        "colab": {
          "base_uri": "https://localhost:8080/"
        },
        "id": "ikvO1frC9zf3",
        "outputId": "d5b82bdd-c27f-4890-8ac8-eb3d0a57fea0"
      },
      "outputs": [
        {
          "name": "stdout",
          "output_type": "stream",
          "text": [
            "Authtoken saved to configuration file: /root/.config/ngrok/ngrok.yml\n"
          ]
        }
      ],
      "source": [
        "!ngrok config add-authtoken 2pM3Fa6aFN50cWQ8mx90ikVf1rp_4L5QEHQkFcDJpr7C6fTs"
      ]
    },
    {
      "cell_type": "code",
      "execution_count": null,
      "metadata": {
        "id": "7E9g-Tzf9Y5_"
      },
      "outputs": [],
      "source": [
        "\n",
        "app = Flask(__name__)\n",
        "run_with_ngrok(app)  # Start ngrok when app is run"
      ]
    },
    {
      "cell_type": "code",
      "execution_count": null,
      "metadata": {
        "colab": {
          "base_uri": "https://localhost:8080/",
          "height": 401
        },
        "id": "F5FDEr0B9Ma4",
        "outputId": "944e8b74-a6ec-4566-a4ae-c5bc9b92c168"
      },
      "outputs": [
        {
          "data": {
            "application/vnd.jupyter.widget-view+json": {
              "model_id": "7e5af6f5c5e74b0f89405a3e91525f6c",
              "version_major": 2,
              "version_minor": 0
            },
            "text/plain": [
              "tokenizer_config.json:   0%|          | 0.00/51.0k [00:00<?, ?B/s]"
            ]
          },
          "metadata": {},
          "output_type": "display_data"
        },
        {
          "data": {
            "application/vnd.jupyter.widget-view+json": {
              "model_id": "1e3c4f18a5504c7fb59aa7c94e634e38",
              "version_major": 2,
              "version_minor": 0
            },
            "text/plain": [
              "tokenizer.json:   0%|          | 0.00/9.09M [00:00<?, ?B/s]"
            ]
          },
          "metadata": {},
          "output_type": "display_data"
        },
        {
          "data": {
            "application/vnd.jupyter.widget-view+json": {
              "model_id": "0ad059362f584a8eb1a0505e01f2ecc5",
              "version_major": 2,
              "version_minor": 0
            },
            "text/plain": [
              "special_tokens_map.json:   0%|          | 0.00/73.0 [00:00<?, ?B/s]"
            ]
          },
          "metadata": {},
          "output_type": "display_data"
        },
        {
          "data": {
            "application/vnd.jupyter.widget-view+json": {
              "model_id": "e78560c136e541e9a02e5cf0a1034fe5",
              "version_major": 2,
              "version_minor": 0
            },
            "text/plain": [
              "config.json:   0%|          | 0.00/654 [00:00<?, ?B/s]"
            ]
          },
          "metadata": {},
          "output_type": "display_data"
        },
        {
          "data": {
            "application/vnd.jupyter.widget-view+json": {
              "model_id": "328630e4863144ad8000008af118bf30",
              "version_major": 2,
              "version_minor": 0
            },
            "text/plain": [
              "model.safetensors.index.json:   0%|          | 0.00/23.9k [00:00<?, ?B/s]"
            ]
          },
          "metadata": {},
          "output_type": "display_data"
        },
        {
          "data": {
            "application/vnd.jupyter.widget-view+json": {
              "model_id": "a4de1978405346d0828a277e35f48bd5",
              "version_major": 2,
              "version_minor": 0
            },
            "text/plain": [
              "Downloading shards:   0%|          | 0/4 [00:00<?, ?it/s]"
            ]
          },
          "metadata": {},
          "output_type": "display_data"
        },
        {
          "data": {
            "application/vnd.jupyter.widget-view+json": {
              "model_id": "cb31efe0b7f1456aaf51a2663181f111",
              "version_major": 2,
              "version_minor": 0
            },
            "text/plain": [
              "model-00001-of-00004.safetensors:   0%|          | 0.00/4.98G [00:00<?, ?B/s]"
            ]
          },
          "metadata": {},
          "output_type": "display_data"
        },
        {
          "data": {
            "application/vnd.jupyter.widget-view+json": {
              "model_id": "c1c4d759c9c849b9b397fca2b79bf2e3",
              "version_major": 2,
              "version_minor": 0
            },
            "text/plain": [
              "model-00002-of-00004.safetensors:   0%|          | 0.00/5.00G [00:00<?, ?B/s]"
            ]
          },
          "metadata": {},
          "output_type": "display_data"
        },
        {
          "data": {
            "application/vnd.jupyter.widget-view+json": {
              "model_id": "7ee1a9eca1fd459f992b9bc8fb51c02d",
              "version_major": 2,
              "version_minor": 0
            },
            "text/plain": [
              "model-00003-of-00004.safetensors:   0%|          | 0.00/4.92G [00:00<?, ?B/s]"
            ]
          },
          "metadata": {},
          "output_type": "display_data"
        },
        {
          "data": {
            "application/vnd.jupyter.widget-view+json": {
              "model_id": "133ded6bf3664f148edd25f06ab841b1",
              "version_major": 2,
              "version_minor": 0
            },
            "text/plain": [
              "model-00004-of-00004.safetensors:   0%|          | 0.00/1.17G [00:00<?, ?B/s]"
            ]
          },
          "metadata": {},
          "output_type": "display_data"
        },
        {
          "data": {
            "application/vnd.jupyter.widget-view+json": {
              "model_id": "a2003dc496da41ab9278dc5dfa3af709",
              "version_major": 2,
              "version_minor": 0
            },
            "text/plain": [
              "Loading checkpoint shards:   0%|          | 0/4 [00:00<?, ?it/s]"
            ]
          },
          "metadata": {},
          "output_type": "display_data"
        },
        {
          "data": {
            "application/vnd.jupyter.widget-view+json": {
              "model_id": "97f2a93ed2f347379797b820ba101088",
              "version_major": 2,
              "version_minor": 0
            },
            "text/plain": [
              "generation_config.json:   0%|          | 0.00/187 [00:00<?, ?B/s]"
            ]
          },
          "metadata": {},
          "output_type": "display_data"
        }
      ],
      "source": [
        "# Initialize the model using HuggingFace\n",
        "\n",
        "from transformers import AutoTokenizer, AutoModelForCausalLM\n",
        "import torch\n",
        "model_name = \"meta-llama/Meta-Llama-3-8B-Instruct\"\n",
        "quantization_config = BitsAndBytesConfig(\n",
        "    load_in_4bit=True,\n",
        "    bnb_4bit_compute_dtype=torch.bfloat16\n",
        ")\n",
        "\n",
        "tokenizer = AutoTokenizer.from_pretrained(model_name)\n",
        "model = AutoModelForCausalLM.from_pretrained(\n",
        "    model_name,\n",
        "    quantization_config=quantization_config,\n",
        "    trust_remote_code=True,\n",
        "    device_map=\"auto\"\n",
        ")\n",
        "\n",
        "\n",
        "text_generator = pipeline(\n",
        "    \"text-generation\",\n",
        "    model=model,\n",
        "    tokenizer=tokenizer,\n",
        "    device_map=\"auto\",\n",
        "    torch_dtype=\"bfloat16\",\n",
        "    trust_remote_code=True\n",
        ")\n"
      ]
    },
    {
      "cell_type": "code",
      "execution_count": null,
      "metadata": {
        "id": "L3TLwfLc9Oi7"
      },
      "outputs": [],
      "source": [
        "import os\n",
        "import traceback\n",
        "from flask import Flask, request, jsonify\n",
        "from io import BytesIO\n",
        "import tempfile\n",
        "from langchain_community.document_loaders import PyPDFLoader\n",
        "\n",
        "#def rearrange_text(text):\n",
        "    # Custom logic to rearrange the text\n",
        "    # Example: Sort words alphabetically\n",
        "   # words = text.split()\n",
        "    #rearranged_text = \" \".join(sorted(words))\n",
        "    #return rearranged_text\n",
        "\n",
        "# Route to handle file upload\n",
        "@app.route('/upload', methods=['POST'])\n",
        "def upload_pdf():\n",
        "    if 'file' not in request.files:\n",
        "        return jsonify({\"error\": \"No file uploaded\"}), 400\n",
        "\n",
        "    file = request.files['file']\n",
        "    if not file.filename.endswith('.pdf'):\n",
        "        return jsonify({\"error\": \"Only PDF files are allowed\"}), 400\n",
        "\n",
        "    try:\n",
        "        # Load the PDF and extract text\n",
        "        pdf_file = BytesIO(file.read())\n",
        "        with tempfile.NamedTemporaryFile(delete=False, suffix=\".pdf\") as temp_pdf_file:\n",
        "            temp_pdf_file.write(pdf_file.getvalue())\n",
        "            temp_pdf_file_path = temp_pdf_file.name\n",
        "\n",
        "        try:\n",
        "            loader = PyPDFLoader(temp_pdf_file_path)\n",
        "            documents = loader.load()\n",
        "            extracted_text = \" \".join([doc.page_content for doc in documents])\n",
        "\n",
        "            # Apply rearrangement logic\n",
        "            #rearranged_text = rearrange_text(extracted_text)\n",
        "\n",
        "            return jsonify({\n",
        "                \"message\": \"PDF processed successfully!\",\n",
        "                \"extracted_text\": extracted_text\n",
        "            }), 200\n",
        "\n",
        "        finally:\n",
        "            # Ensure the temporary file is deleted\n",
        "            if os.path.exists(temp_pdf_file_path):\n",
        "                os.unlink(temp_pdf_file_path)\n",
        "\n",
        "    except Exception as e:\n",
        "        # Log the error with a full traceback\n",
        "        print(f\"Error processing PDF: {e}\")\n",
        "        traceback.print_exc()\n",
        "        return jsonify({\"error\": f\"Failed to process PDF. Error: {str(e)}\"}), 500\n"
      ]
    },
    {
      "cell_type": "code",
      "execution_count": null,
      "metadata": {
        "id": "WcrHXDJz9VYy"
      },
      "outputs": [],
      "source": [
        "# Route to summarize text\n",
        "@app.route('/summarize', methods=['POST'])\n",
        "def summarize():\n",
        "    data = request.json\n",
        "    if not data or 'text' not in data:\n",
        "        return jsonify({\"error\": \"No text provided\"}), 400\n",
        "\n",
        "    input_text = data['text']\n",
        "\n",
        "    # Template for summarization\n",
        "    template = \"\"\"\n",
        "       You are a summarizer tasked with condensing the provided text into a high-quality summary presented as bullet points.\n",
        "       Your response should start immediately with the summary, avoiding any introductory remarks.\n",
        "       The summary must:\n",
        "       Cover all essential contents of the lesson.\n",
        "       Be comprehensive enough to replace studying the slides.\n",
        "       Simplify long definitions while maintaining accuracy and understanding.\n",
        "       Include any enumerations, examples, or key points in a structured and logical order.\n",
        "       Content: {text}\n",
        "\n",
        "       Your Answer:\n",
        "       (Summary starts directly here in bullet-point format.)\n",
        "       \"\"\"\n",
        "    prompt = template.replace(\"{text}\", input_text)\n",
        "\n",
        "    # Generate summary\n",
        "    sequences = text_generator(\n",
        "        prompt,\n",
        "        max_new_tokens=1024,\n",
        "        do_sample=True,\n",
        "        temperature=0.3,\n",
        "        num_return_sequences=1,\n",
        "        repetition_penalty=1.2,\n",
        "        return_full_text=False\n",
        "    )\n",
        "\n",
        "    generated_summary = sequences[0]['generated_text']\n",
        "    return jsonify({\"summary\": generated_summary})\n"
      ]
    },
    {
      "cell_type": "code",
      "execution_count": null,
      "metadata": {
        "colab": {
          "base_uri": "https://localhost:8080/"
        },
        "id": "aIf1MSft9i29",
        "outputId": "62b50edc-9cd0-4f22-98db-de59730d14a6"
      },
      "outputs": [
        {
          "name": "stdout",
          "output_type": "stream",
          "text": [
            "Custom Ngrok URL: NgrokTunnel: \"https://f94f-110-39-21-190.ngrok-free.app\" -> \"http://localhost:5000\"\n"
          ]
        }
      ],
      "source": [
        "# Start Flask server\n",
        "if __name__ == '__main__':\n",
        "    from google.colab.output import eval_js\n",
        "    from pyngrok import ngrok\n",
        "    #ngrok.kill()\n",
        "    public_url = ngrok.connect(5000, hostname=\"summarize.ngrok-free.app\")\n",
        "\n",
        "    print(f\"Custom Ngrok URL: {public_url}\")\n",
        "    # Setup ngrok\n",
        "    #ngrok_tunnel = ngrok.connect(5000)\n",
        "    #print(f\"Public URL: {ngrok_tunnel.public_url}\")"
      ]
    },
    {
      "cell_type": "code",
      "execution_count": null,
      "metadata": {
        "colab": {
          "background_save": true,
          "base_uri": "https://localhost:8080/"
        },
        "id": "gOcJKRY79pe6",
        "outputId": "3208a8b8-055d-4767-c08a-8f285cdbfb46"
      },
      "outputs": [
        {
          "name": "stdout",
          "output_type": "stream",
          "text": [
            " * Serving Flask app '__main__'\n",
            " * Debug mode: off\n"
          ]
        },
        {
          "name": "stderr",
          "output_type": "stream",
          "text": [
            "INFO:werkzeug:\u001b[31m\u001b[1mWARNING: This is a development server. Do not use it in a production deployment. Use a production WSGI server instead.\u001b[0m\n",
            " * Running on http://127.0.0.1:5000\n",
            "INFO:werkzeug:\u001b[33mPress CTRL+C to quit\u001b[0m\n"
          ]
        },
        {
          "name": "stdout",
          "output_type": "stream",
          "text": [
            " * Running on http://summarize.ngrok-free.app\n",
            " * Traffic stats available on http://127.0.0.1:4040\n"
          ]
        },
        {
          "name": "stderr",
          "output_type": "stream",
          "text": [
            "WARNING:pypdf._reader:Ignoring wrong pointing object 25 0 (offset 0)\n",
            "WARNING:pypdf._reader:Ignoring wrong pointing object 33 0 (offset 0)\n",
            "WARNING:pypdf._reader:Ignoring wrong pointing object 40 0 (offset 0)\n",
            "WARNING:pypdf._reader:Ignoring wrong pointing object 66 0 (offset 0)\n",
            "WARNING:pypdf._reader:Ignoring wrong pointing object 68 0 (offset 0)\n",
            "WARNING:pypdf._reader:Ignoring wrong pointing object 83 0 (offset 0)\n",
            "WARNING:pypdf._reader:Ignoring wrong pointing object 99 0 (offset 0)\n",
            "WARNING:pypdf._reader:Ignoring wrong pointing object 135 0 (offset 0)\n",
            "WARNING:pypdf._reader:Ignoring wrong pointing object 143 0 (offset 0)\n",
            "INFO:werkzeug:127.0.0.1 - - [27/Nov/2024 14:34:49] \"POST /upload HTTP/1.1\" 200 -\n",
            "Setting `pad_token_id` to `eos_token_id`:None for open-end generation.\n",
            "INFO:werkzeug:127.0.0.1 - - [27/Nov/2024 14:35:40] \"POST /summarize HTTP/1.1\" 200 -\n",
            "WARNING:pypdf._reader:Ignoring wrong pointing object 18 0 (offset 0)\n",
            "WARNING:pypdf._reader:Ignoring wrong pointing object 21 0 (offset 0)\n",
            "WARNING:pypdf._reader:Ignoring wrong pointing object 24 0 (offset 0)\n",
            "WARNING:pypdf._reader:Ignoring wrong pointing object 28 0 (offset 0)\n",
            "WARNING:pypdf._reader:Ignoring wrong pointing object 34 0 (offset 0)\n",
            "WARNING:pypdf._reader:Ignoring wrong pointing object 37 0 (offset 0)\n",
            "WARNING:pypdf._reader:Ignoring wrong pointing object 40 0 (offset 0)\n",
            "WARNING:pypdf._reader:Ignoring wrong pointing object 99 0 (offset 0)\n",
            "WARNING:pypdf._reader:Ignoring wrong pointing object 122 0 (offset 0)\n",
            "WARNING:pypdf._reader:Ignoring wrong pointing object 144 0 (offset 0)\n",
            "WARNING:pypdf._reader:Ignoring wrong pointing object 152 0 (offset 0)\n",
            "WARNING:pypdf._reader:Ignoring wrong pointing object 158 0 (offset 0)\n",
            "WARNING:pypdf._reader:Ignoring wrong pointing object 193 0 (offset 0)\n",
            "WARNING:pypdf._reader:Ignoring wrong pointing object 211 0 (offset 0)\n",
            "WARNING:pypdf._reader:Ignoring wrong pointing object 213 0 (offset 0)\n",
            "INFO:werkzeug:127.0.0.1 - - [27/Nov/2024 14:47:04] \"POST /upload HTTP/1.1\" 200 -\n",
            "Setting `pad_token_id` to `eos_token_id`:None for open-end generation.\n",
            "INFO:werkzeug:127.0.0.1 - - [27/Nov/2024 14:47:50] \"POST /summarize HTTP/1.1\" 200 -\n",
            "WARNING:pypdf._reader:Ignoring wrong pointing object 18 0 (offset 0)\n",
            "WARNING:pypdf._reader:Ignoring wrong pointing object 21 0 (offset 0)\n",
            "WARNING:pypdf._reader:Ignoring wrong pointing object 24 0 (offset 0)\n",
            "WARNING:pypdf._reader:Ignoring wrong pointing object 28 0 (offset 0)\n",
            "WARNING:pypdf._reader:Ignoring wrong pointing object 34 0 (offset 0)\n",
            "WARNING:pypdf._reader:Ignoring wrong pointing object 37 0 (offset 0)\n",
            "WARNING:pypdf._reader:Ignoring wrong pointing object 40 0 (offset 0)\n",
            "WARNING:pypdf._reader:Ignoring wrong pointing object 99 0 (offset 0)\n",
            "WARNING:pypdf._reader:Ignoring wrong pointing object 122 0 (offset 0)\n",
            "WARNING:pypdf._reader:Ignoring wrong pointing object 144 0 (offset 0)\n",
            "WARNING:pypdf._reader:Ignoring wrong pointing object 152 0 (offset 0)\n",
            "WARNING:pypdf._reader:Ignoring wrong pointing object 158 0 (offset 0)\n",
            "WARNING:pypdf._reader:Ignoring wrong pointing object 193 0 (offset 0)\n",
            "WARNING:pypdf._reader:Ignoring wrong pointing object 211 0 (offset 0)\n",
            "WARNING:pypdf._reader:Ignoring wrong pointing object 213 0 (offset 0)\n",
            "INFO:werkzeug:127.0.0.1 - - [27/Nov/2024 14:48:24] \"POST /upload HTTP/1.1\" 200 -\n",
            "Setting `pad_token_id` to `eos_token_id`:None for open-end generation.\n",
            "INFO:werkzeug:127.0.0.1 - - [27/Nov/2024 14:48:49] \"POST /summarize HTTP/1.1\" 200 -\n",
            "INFO:werkzeug:127.0.0.1 - - [27/Nov/2024 15:04:48] \"POST /upload HTTP/1.1\" 200 -\n",
            "Setting `pad_token_id` to `eos_token_id`:None for open-end generation.\n",
            "This is a friendly reminder - the current text generation call will exceed the model's predefined maximum length (8192). Depending on the model, you may observe exceptions, performance degradation, or nothing at all.\n",
            "INFO:werkzeug:127.0.0.1 - - [27/Nov/2024 15:06:12] \"POST /summarize HTTP/1.1\" 200 -\n",
            "WARNING:pypdf._reader:Ignoring wrong pointing object 19 0 (offset 0)\n",
            "WARNING:pypdf._reader:Ignoring wrong pointing object 24 0 (offset 0)\n",
            "WARNING:pypdf._reader:Ignoring wrong pointing object 26 0 (offset 0)\n",
            "WARNING:pypdf._reader:Ignoring wrong pointing object 61 0 (offset 0)\n",
            "WARNING:pypdf._reader:Ignoring wrong pointing object 63 0 (offset 0)\n",
            "WARNING:pypdf._reader:Ignoring wrong pointing object 65 0 (offset 0)\n",
            "WARNING:pypdf._reader:Ignoring wrong pointing object 67 0 (offset 0)\n",
            "WARNING:pypdf._reader:Ignoring wrong pointing object 93 0 (offset 0)\n",
            "WARNING:pypdf._reader:Ignoring wrong pointing object 95 0 (offset 0)\n",
            "WARNING:pypdf._reader:Ignoring wrong pointing object 112 0 (offset 0)\n",
            "WARNING:pypdf._reader:Ignoring wrong pointing object 131 0 (offset 0)\n",
            "WARNING:pypdf._reader:Ignoring wrong pointing object 138 0 (offset 0)\n",
            "WARNING:pypdf._reader:Ignoring wrong pointing object 140 0 (offset 0)\n",
            "WARNING:pypdf._reader:Ignoring wrong pointing object 149 0 (offset 0)\n",
            "WARNING:pypdf._reader:Ignoring wrong pointing object 160 0 (offset 0)\n",
            "WARNING:pypdf._reader:Ignoring wrong pointing object 162 0 (offset 0)\n",
            "WARNING:pypdf._reader:Ignoring wrong pointing object 170 0 (offset 0)\n",
            "WARNING:pypdf._reader:Ignoring wrong pointing object 177 0 (offset 0)\n",
            "WARNING:pypdf._reader:Ignoring wrong pointing object 179 0 (offset 0)\n",
            "WARNING:pypdf._reader:Ignoring wrong pointing object 181 0 (offset 0)\n",
            "WARNING:pypdf._reader:Ignoring wrong pointing object 183 0 (offset 0)\n",
            "WARNING:pypdf._reader:Ignoring wrong pointing object 190 0 (offset 0)\n",
            "WARNING:pypdf._reader:Ignoring wrong pointing object 192 0 (offset 0)\n",
            "WARNING:pypdf._reader:Ignoring wrong pointing object 209 0 (offset 0)\n",
            "WARNING:pypdf._reader:Ignoring wrong pointing object 211 0 (offset 0)\n",
            "WARNING:pypdf._reader:Ignoring wrong pointing object 213 0 (offset 0)\n",
            "WARNING:pypdf._reader:Ignoring wrong pointing object 235 0 (offset 0)\n",
            "WARNING:pypdf._reader:Ignoring wrong pointing object 242 0 (offset 0)\n",
            "WARNING:pypdf._reader:Ignoring wrong pointing object 267 0 (offset 0)\n",
            "WARNING:pypdf._reader:Ignoring wrong pointing object 269 0 (offset 0)\n",
            "WARNING:pypdf._reader:Ignoring wrong pointing object 271 0 (offset 0)\n",
            "WARNING:pypdf._reader:Ignoring wrong pointing object 273 0 (offset 0)\n",
            "WARNING:pypdf._reader:Ignoring wrong pointing object 303 0 (offset 0)\n",
            "WARNING:pypdf._reader:Ignoring wrong pointing object 305 0 (offset 0)\n",
            "WARNING:pypdf._reader:Ignoring wrong pointing object 315 0 (offset 0)\n",
            "WARNING:pypdf._reader:Ignoring wrong pointing object 342 0 (offset 0)\n",
            "WARNING:pypdf._reader:Ignoring wrong pointing object 364 0 (offset 0)\n",
            "WARNING:pypdf._reader:Ignoring wrong pointing object 408 0 (offset 0)\n",
            "WARNING:pypdf._reader:Ignoring wrong pointing object 410 0 (offset 0)\n",
            "WARNING:pypdf._reader:Ignoring wrong pointing object 454 0 (offset 0)\n",
            "WARNING:pypdf._reader:Ignoring wrong pointing object 456 0 (offset 0)\n",
            "INFO:werkzeug:127.0.0.1 - - [27/Nov/2024 15:06:30] \"POST /upload HTTP/1.1\" 200 -\n",
            "Setting `pad_token_id` to `eos_token_id`:None for open-end generation.\n",
            "INFO:werkzeug:127.0.0.1 - - [27/Nov/2024 15:07:16] \"POST /summarize HTTP/1.1\" 200 -\n",
            "WARNING:pypdf._reader:Ignoring wrong pointing object 8 0 (offset 0)\n",
            "WARNING:pypdf._reader:Ignoring wrong pointing object 10 0 (offset 0)\n",
            "WARNING:pypdf._reader:Ignoring wrong pointing object 34 0 (offset 0)\n",
            "WARNING:pypdf._reader:Ignoring wrong pointing object 37 0 (offset 0)\n",
            "INFO:werkzeug:127.0.0.1 - - [27/Nov/2024 16:36:21] \"POST /upload HTTP/1.1\" 200 -\n",
            "Setting `pad_token_id` to `eos_token_id`:None for open-end generation.\n",
            "INFO:werkzeug:127.0.0.1 - - [27/Nov/2024 16:36:53] \"POST /summarize HTTP/1.1\" 200 -\n",
            "WARNING:pypdf._reader:Ignoring wrong pointing object 19 0 (offset 0)\n",
            "WARNING:pypdf._reader:Ignoring wrong pointing object 24 0 (offset 0)\n",
            "WARNING:pypdf._reader:Ignoring wrong pointing object 26 0 (offset 0)\n",
            "WARNING:pypdf._reader:Ignoring wrong pointing object 61 0 (offset 0)\n",
            "WARNING:pypdf._reader:Ignoring wrong pointing object 63 0 (offset 0)\n",
            "WARNING:pypdf._reader:Ignoring wrong pointing object 65 0 (offset 0)\n",
            "WARNING:pypdf._reader:Ignoring wrong pointing object 67 0 (offset 0)\n",
            "WARNING:pypdf._reader:Ignoring wrong pointing object 93 0 (offset 0)\n",
            "WARNING:pypdf._reader:Ignoring wrong pointing object 95 0 (offset 0)\n",
            "WARNING:pypdf._reader:Ignoring wrong pointing object 112 0 (offset 0)\n",
            "WARNING:pypdf._reader:Ignoring wrong pointing object 131 0 (offset 0)\n",
            "WARNING:pypdf._reader:Ignoring wrong pointing object 138 0 (offset 0)\n",
            "WARNING:pypdf._reader:Ignoring wrong pointing object 140 0 (offset 0)\n",
            "WARNING:pypdf._reader:Ignoring wrong pointing object 149 0 (offset 0)\n",
            "WARNING:pypdf._reader:Ignoring wrong pointing object 160 0 (offset 0)\n",
            "WARNING:pypdf._reader:Ignoring wrong pointing object 162 0 (offset 0)\n",
            "WARNING:pypdf._reader:Ignoring wrong pointing object 170 0 (offset 0)\n",
            "WARNING:pypdf._reader:Ignoring wrong pointing object 177 0 (offset 0)\n",
            "WARNING:pypdf._reader:Ignoring wrong pointing object 179 0 (offset 0)\n",
            "WARNING:pypdf._reader:Ignoring wrong pointing object 181 0 (offset 0)\n",
            "WARNING:pypdf._reader:Ignoring wrong pointing object 183 0 (offset 0)\n",
            "WARNING:pypdf._reader:Ignoring wrong pointing object 190 0 (offset 0)\n",
            "WARNING:pypdf._reader:Ignoring wrong pointing object 192 0 (offset 0)\n",
            "WARNING:pypdf._reader:Ignoring wrong pointing object 209 0 (offset 0)\n",
            "WARNING:pypdf._reader:Ignoring wrong pointing object 211 0 (offset 0)\n",
            "WARNING:pypdf._reader:Ignoring wrong pointing object 213 0 (offset 0)\n",
            "WARNING:pypdf._reader:Ignoring wrong pointing object 235 0 (offset 0)\n",
            "WARNING:pypdf._reader:Ignoring wrong pointing object 242 0 (offset 0)\n",
            "WARNING:pypdf._reader:Ignoring wrong pointing object 267 0 (offset 0)\n",
            "WARNING:pypdf._reader:Ignoring wrong pointing object 269 0 (offset 0)\n",
            "WARNING:pypdf._reader:Ignoring wrong pointing object 271 0 (offset 0)\n",
            "WARNING:pypdf._reader:Ignoring wrong pointing object 273 0 (offset 0)\n",
            "WARNING:pypdf._reader:Ignoring wrong pointing object 303 0 (offset 0)\n",
            "WARNING:pypdf._reader:Ignoring wrong pointing object 305 0 (offset 0)\n",
            "WARNING:pypdf._reader:Ignoring wrong pointing object 315 0 (offset 0)\n",
            "WARNING:pypdf._reader:Ignoring wrong pointing object 342 0 (offset 0)\n",
            "WARNING:pypdf._reader:Ignoring wrong pointing object 364 0 (offset 0)\n",
            "WARNING:pypdf._reader:Ignoring wrong pointing object 408 0 (offset 0)\n",
            "WARNING:pypdf._reader:Ignoring wrong pointing object 410 0 (offset 0)\n",
            "WARNING:pypdf._reader:Ignoring wrong pointing object 454 0 (offset 0)\n",
            "WARNING:pypdf._reader:Ignoring wrong pointing object 456 0 (offset 0)\n",
            "INFO:werkzeug:127.0.0.1 - - [27/Nov/2024 16:53:22] \"POST /upload HTTP/1.1\" 200 -\n",
            "Setting `pad_token_id` to `eos_token_id`:None for open-end generation.\n",
            "INFO:werkzeug:127.0.0.1 - - [27/Nov/2024 16:53:42] \"POST /summarize HTTP/1.1\" 200 -\n",
            "WARNING:pypdf._reader:Ignoring wrong pointing object 18 0 (offset 0)\n",
            "WARNING:pypdf._reader:Ignoring wrong pointing object 21 0 (offset 0)\n",
            "WARNING:pypdf._reader:Ignoring wrong pointing object 24 0 (offset 0)\n",
            "WARNING:pypdf._reader:Ignoring wrong pointing object 28 0 (offset 0)\n",
            "WARNING:pypdf._reader:Ignoring wrong pointing object 34 0 (offset 0)\n",
            "WARNING:pypdf._reader:Ignoring wrong pointing object 37 0 (offset 0)\n",
            "WARNING:pypdf._reader:Ignoring wrong pointing object 40 0 (offset 0)\n",
            "WARNING:pypdf._reader:Ignoring wrong pointing object 99 0 (offset 0)\n",
            "WARNING:pypdf._reader:Ignoring wrong pointing object 122 0 (offset 0)\n",
            "WARNING:pypdf._reader:Ignoring wrong pointing object 144 0 (offset 0)\n",
            "WARNING:pypdf._reader:Ignoring wrong pointing object 152 0 (offset 0)\n",
            "WARNING:pypdf._reader:Ignoring wrong pointing object 158 0 (offset 0)\n",
            "WARNING:pypdf._reader:Ignoring wrong pointing object 193 0 (offset 0)\n",
            "WARNING:pypdf._reader:Ignoring wrong pointing object 211 0 (offset 0)\n",
            "WARNING:pypdf._reader:Ignoring wrong pointing object 213 0 (offset 0)\n",
            "INFO:werkzeug:127.0.0.1 - - [27/Nov/2024 18:04:43] \"POST /upload HTTP/1.1\" 200 -\n",
            "Setting `pad_token_id` to `eos_token_id`:None for open-end generation.\n",
            "INFO:werkzeug:127.0.0.1 - - [27/Nov/2024 18:05:19] \"POST /summarize HTTP/1.1\" 200 -\n",
            "WARNING:pypdf._reader:Ignoring wrong pointing object 11 0 (offset 0)\n",
            "WARNING:pypdf._reader:Ignoring wrong pointing object 22 0 (offset 0)\n",
            "WARNING:pypdf._reader:Ignoring wrong pointing object 24 0 (offset 0)\n",
            "WARNING:pypdf._reader:Ignoring wrong pointing object 30 0 (offset 0)\n",
            "WARNING:pypdf._reader:Ignoring wrong pointing object 32 0 (offset 0)\n",
            "WARNING:pypdf._reader:Ignoring wrong pointing object 34 0 (offset 0)\n",
            "WARNING:pypdf._reader:Ignoring wrong pointing object 36 0 (offset 0)\n",
            "WARNING:pypdf._reader:Ignoring wrong pointing object 45 0 (offset 0)\n",
            "WARNING:pypdf._reader:Ignoring wrong pointing object 50 0 (offset 0)\n",
            "WARNING:pypdf._reader:Ignoring wrong pointing object 58 0 (offset 0)\n",
            "WARNING:pypdf._reader:Ignoring wrong pointing object 60 0 (offset 0)\n",
            "WARNING:pypdf._reader:Ignoring wrong pointing object 69 0 (offset 0)\n",
            "WARNING:pypdf._reader:Ignoring wrong pointing object 72 0 (offset 0)\n",
            "WARNING:pypdf._reader:Ignoring wrong pointing object 83 0 (offset 0)\n",
            "WARNING:pypdf._reader:Ignoring wrong pointing object 86 0 (offset 0)\n",
            "WARNING:pypdf._reader:Ignoring wrong pointing object 93 0 (offset 0)\n",
            "WARNING:pypdf._reader:Ignoring wrong pointing object 101 0 (offset 0)\n",
            "WARNING:pypdf._reader:Ignoring wrong pointing object 103 0 (offset 0)\n",
            "WARNING:pypdf._reader:Ignoring wrong pointing object 105 0 (offset 0)\n",
            "WARNING:pypdf._reader:Ignoring wrong pointing object 107 0 (offset 0)\n",
            "WARNING:pypdf._reader:Ignoring wrong pointing object 116 0 (offset 0)\n",
            "WARNING:pypdf._reader:Ignoring wrong pointing object 128 0 (offset 0)\n",
            "WARNING:pypdf._reader:Ignoring wrong pointing object 132 0 (offset 0)\n",
            "WARNING:pypdf._reader:Ignoring wrong pointing object 140 0 (offset 0)\n",
            "WARNING:pypdf._reader:Ignoring wrong pointing object 143 0 (offset 0)\n",
            "WARNING:pypdf._reader:Ignoring wrong pointing object 150 0 (offset 0)\n",
            "WARNING:pypdf._reader:Ignoring wrong pointing object 154 0 (offset 0)\n",
            "WARNING:pypdf._reader:Ignoring wrong pointing object 162 0 (offset 0)\n",
            "WARNING:pypdf._reader:Ignoring wrong pointing object 165 0 (offset 0)\n",
            "WARNING:pypdf._reader:Ignoring wrong pointing object 174 0 (offset 0)\n",
            "WARNING:pypdf._reader:Ignoring wrong pointing object 183 0 (offset 0)\n",
            "WARNING:pypdf._reader:Ignoring wrong pointing object 186 0 (offset 0)\n",
            "WARNING:pypdf._reader:Ignoring wrong pointing object 194 0 (offset 0)\n",
            "WARNING:pypdf._reader:Ignoring wrong pointing object 196 0 (offset 0)\n",
            "WARNING:pypdf._reader:Ignoring wrong pointing object 198 0 (offset 0)\n",
            "WARNING:pypdf._reader:Ignoring wrong pointing object 207 0 (offset 0)\n",
            "WARNING:pypdf._reader:Ignoring wrong pointing object 209 0 (offset 0)\n",
            "WARNING:pypdf._reader:Ignoring wrong pointing object 219 0 (offset 0)\n",
            "WARNING:pypdf._reader:Ignoring wrong pointing object 221 0 (offset 0)\n",
            "WARNING:pypdf._reader:Ignoring wrong pointing object 231 0 (offset 0)\n",
            "WARNING:pypdf._reader:Ignoring wrong pointing object 233 0 (offset 0)\n",
            "WARNING:pypdf._reader:Ignoring wrong pointing object 243 0 (offset 0)\n",
            "WARNING:pypdf._reader:Ignoring wrong pointing object 245 0 (offset 0)\n",
            "WARNING:pypdf._reader:Ignoring wrong pointing object 255 0 (offset 0)\n",
            "WARNING:pypdf._reader:Ignoring wrong pointing object 258 0 (offset 0)\n",
            "WARNING:pypdf._reader:Ignoring wrong pointing object 268 0 (offset 0)\n",
            "WARNING:pypdf._reader:Ignoring wrong pointing object 272 0 (offset 0)\n",
            "WARNING:pypdf._reader:Ignoring wrong pointing object 281 0 (offset 0)\n",
            "WARNING:pypdf._reader:Ignoring wrong pointing object 289 0 (offset 0)\n",
            "WARNING:pypdf._reader:Ignoring wrong pointing object 294 0 (offset 0)\n",
            "WARNING:pypdf._reader:Ignoring wrong pointing object 302 0 (offset 0)\n",
            "WARNING:pypdf._reader:Ignoring wrong pointing object 311 0 (offset 0)\n",
            "WARNING:pypdf._reader:Ignoring wrong pointing object 314 0 (offset 0)\n",
            "WARNING:pypdf._reader:Ignoring wrong pointing object 316 0 (offset 0)\n",
            "WARNING:pypdf._reader:Ignoring wrong pointing object 318 0 (offset 0)\n",
            "WARNING:pypdf._reader:Ignoring wrong pointing object 325 0 (offset 0)\n",
            "WARNING:pypdf._reader:Ignoring wrong pointing object 329 0 (offset 0)\n",
            "WARNING:pypdf._reader:Ignoring wrong pointing object 337 0 (offset 0)\n",
            "WARNING:pypdf._reader:Ignoring wrong pointing object 358 0 (offset 0)\n",
            "WARNING:pypdf._reader:Ignoring wrong pointing object 361 0 (offset 0)\n",
            "WARNING:pypdf._reader:Ignoring wrong pointing object 368 0 (offset 0)\n",
            "WARNING:pypdf._reader:Ignoring wrong pointing object 372 0 (offset 0)\n",
            "WARNING:pypdf._reader:Ignoring wrong pointing object 382 0 (offset 0)\n",
            "WARNING:pypdf._reader:Ignoring wrong pointing object 390 0 (offset 0)\n",
            "WARNING:pypdf._reader:Ignoring wrong pointing object 392 0 (offset 0)\n",
            "WARNING:pypdf._reader:Ignoring wrong pointing object 399 0 (offset 0)\n",
            "WARNING:pypdf._reader:Ignoring wrong pointing object 402 0 (offset 0)\n",
            "WARNING:pypdf._reader:Ignoring wrong pointing object 410 0 (offset 0)\n",
            "WARNING:pypdf._reader:Ignoring wrong pointing object 418 0 (offset 0)\n",
            "WARNING:pypdf._reader:Ignoring wrong pointing object 420 0 (offset 0)\n",
            "WARNING:pypdf._reader:Ignoring wrong pointing object 429 0 (offset 0)\n",
            "WARNING:pypdf._reader:Ignoring wrong pointing object 437 0 (offset 0)\n",
            "WARNING:pypdf._reader:Ignoring wrong pointing object 440 0 (offset 0)\n",
            "INFO:werkzeug:127.0.0.1 - - [27/Nov/2024 18:12:22] \"POST /upload HTTP/1.1\" 200 -\n",
            "Setting `pad_token_id` to `eos_token_id`:None for open-end generation.\n",
            "INFO:werkzeug:127.0.0.1 - - [27/Nov/2024 18:12:55] \"POST /summarize HTTP/1.1\" 200 -\n",
            "WARNING:pypdf._reader:Ignoring wrong pointing object 25 0 (offset 0)\n",
            "WARNING:pypdf._reader:Ignoring wrong pointing object 33 0 (offset 0)\n",
            "WARNING:pypdf._reader:Ignoring wrong pointing object 40 0 (offset 0)\n",
            "WARNING:pypdf._reader:Ignoring wrong pointing object 66 0 (offset 0)\n",
            "WARNING:pypdf._reader:Ignoring wrong pointing object 68 0 (offset 0)\n",
            "WARNING:pypdf._reader:Ignoring wrong pointing object 83 0 (offset 0)\n",
            "WARNING:pypdf._reader:Ignoring wrong pointing object 99 0 (offset 0)\n",
            "WARNING:pypdf._reader:Ignoring wrong pointing object 135 0 (offset 0)\n",
            "WARNING:pypdf._reader:Ignoring wrong pointing object 143 0 (offset 0)\n",
            "INFO:werkzeug:127.0.0.1 - - [27/Nov/2024 20:07:14] \"POST /upload HTTP/1.1\" 200 -\n",
            "Setting `pad_token_id` to `eos_token_id`:None for open-end generation.\n",
            "INFO:werkzeug:127.0.0.1 - - [27/Nov/2024 20:08:23] \"POST /summarize HTTP/1.1\" 200 -\n",
            "WARNING:pypdf._reader:Ignoring wrong pointing object 11 0 (offset 0)\n",
            "WARNING:pypdf._reader:Ignoring wrong pointing object 22 0 (offset 0)\n",
            "WARNING:pypdf._reader:Ignoring wrong pointing object 24 0 (offset 0)\n",
            "WARNING:pypdf._reader:Ignoring wrong pointing object 30 0 (offset 0)\n",
            "WARNING:pypdf._reader:Ignoring wrong pointing object 32 0 (offset 0)\n",
            "WARNING:pypdf._reader:Ignoring wrong pointing object 34 0 (offset 0)\n",
            "WARNING:pypdf._reader:Ignoring wrong pointing object 36 0 (offset 0)\n",
            "WARNING:pypdf._reader:Ignoring wrong pointing object 45 0 (offset 0)\n",
            "WARNING:pypdf._reader:Ignoring wrong pointing object 50 0 (offset 0)\n",
            "WARNING:pypdf._reader:Ignoring wrong pointing object 58 0 (offset 0)\n",
            "WARNING:pypdf._reader:Ignoring wrong pointing object 60 0 (offset 0)\n",
            "WARNING:pypdf._reader:Ignoring wrong pointing object 69 0 (offset 0)\n",
            "WARNING:pypdf._reader:Ignoring wrong pointing object 72 0 (offset 0)\n",
            "WARNING:pypdf._reader:Ignoring wrong pointing object 83 0 (offset 0)\n",
            "WARNING:pypdf._reader:Ignoring wrong pointing object 86 0 (offset 0)\n",
            "WARNING:pypdf._reader:Ignoring wrong pointing object 93 0 (offset 0)\n",
            "WARNING:pypdf._reader:Ignoring wrong pointing object 101 0 (offset 0)\n",
            "WARNING:pypdf._reader:Ignoring wrong pointing object 103 0 (offset 0)\n",
            "WARNING:pypdf._reader:Ignoring wrong pointing object 105 0 (offset 0)\n",
            "WARNING:pypdf._reader:Ignoring wrong pointing object 107 0 (offset 0)\n",
            "WARNING:pypdf._reader:Ignoring wrong pointing object 116 0 (offset 0)\n",
            "WARNING:pypdf._reader:Ignoring wrong pointing object 128 0 (offset 0)\n",
            "WARNING:pypdf._reader:Ignoring wrong pointing object 132 0 (offset 0)\n",
            "WARNING:pypdf._reader:Ignoring wrong pointing object 140 0 (offset 0)\n",
            "WARNING:pypdf._reader:Ignoring wrong pointing object 143 0 (offset 0)\n",
            "WARNING:pypdf._reader:Ignoring wrong pointing object 150 0 (offset 0)\n",
            "WARNING:pypdf._reader:Ignoring wrong pointing object 154 0 (offset 0)\n",
            "WARNING:pypdf._reader:Ignoring wrong pointing object 162 0 (offset 0)\n",
            "WARNING:pypdf._reader:Ignoring wrong pointing object 165 0 (offset 0)\n",
            "WARNING:pypdf._reader:Ignoring wrong pointing object 174 0 (offset 0)\n",
            "WARNING:pypdf._reader:Ignoring wrong pointing object 183 0 (offset 0)\n",
            "WARNING:pypdf._reader:Ignoring wrong pointing object 186 0 (offset 0)\n",
            "WARNING:pypdf._reader:Ignoring wrong pointing object 194 0 (offset 0)\n",
            "WARNING:pypdf._reader:Ignoring wrong pointing object 196 0 (offset 0)\n",
            "WARNING:pypdf._reader:Ignoring wrong pointing object 198 0 (offset 0)\n",
            "WARNING:pypdf._reader:Ignoring wrong pointing object 207 0 (offset 0)\n",
            "WARNING:pypdf._reader:Ignoring wrong pointing object 209 0 (offset 0)\n",
            "WARNING:pypdf._reader:Ignoring wrong pointing object 219 0 (offset 0)\n",
            "WARNING:pypdf._reader:Ignoring wrong pointing object 221 0 (offset 0)\n",
            "WARNING:pypdf._reader:Ignoring wrong pointing object 231 0 (offset 0)\n",
            "WARNING:pypdf._reader:Ignoring wrong pointing object 233 0 (offset 0)\n",
            "WARNING:pypdf._reader:Ignoring wrong pointing object 243 0 (offset 0)\n",
            "WARNING:pypdf._reader:Ignoring wrong pointing object 245 0 (offset 0)\n",
            "WARNING:pypdf._reader:Ignoring wrong pointing object 255 0 (offset 0)\n",
            "WARNING:pypdf._reader:Ignoring wrong pointing object 258 0 (offset 0)\n",
            "WARNING:pypdf._reader:Ignoring wrong pointing object 268 0 (offset 0)\n",
            "WARNING:pypdf._reader:Ignoring wrong pointing object 272 0 (offset 0)\n",
            "WARNING:pypdf._reader:Ignoring wrong pointing object 281 0 (offset 0)\n",
            "WARNING:pypdf._reader:Ignoring wrong pointing object 289 0 (offset 0)\n",
            "WARNING:pypdf._reader:Ignoring wrong pointing object 294 0 (offset 0)\n",
            "WARNING:pypdf._reader:Ignoring wrong pointing object 302 0 (offset 0)\n",
            "WARNING:pypdf._reader:Ignoring wrong pointing object 311 0 (offset 0)\n",
            "WARNING:pypdf._reader:Ignoring wrong pointing object 314 0 (offset 0)\n",
            "WARNING:pypdf._reader:Ignoring wrong pointing object 316 0 (offset 0)\n",
            "WARNING:pypdf._reader:Ignoring wrong pointing object 318 0 (offset 0)\n",
            "WARNING:pypdf._reader:Ignoring wrong pointing object 325 0 (offset 0)\n",
            "WARNING:pypdf._reader:Ignoring wrong pointing object 329 0 (offset 0)\n",
            "WARNING:pypdf._reader:Ignoring wrong pointing object 337 0 (offset 0)\n",
            "WARNING:pypdf._reader:Ignoring wrong pointing object 358 0 (offset 0)\n",
            "WARNING:pypdf._reader:Ignoring wrong pointing object 361 0 (offset 0)\n",
            "WARNING:pypdf._reader:Ignoring wrong pointing object 368 0 (offset 0)\n",
            "WARNING:pypdf._reader:Ignoring wrong pointing object 372 0 (offset 0)\n",
            "WARNING:pypdf._reader:Ignoring wrong pointing object 382 0 (offset 0)\n",
            "WARNING:pypdf._reader:Ignoring wrong pointing object 390 0 (offset 0)\n",
            "WARNING:pypdf._reader:Ignoring wrong pointing object 392 0 (offset 0)\n",
            "WARNING:pypdf._reader:Ignoring wrong pointing object 399 0 (offset 0)\n",
            "WARNING:pypdf._reader:Ignoring wrong pointing object 402 0 (offset 0)\n",
            "WARNING:pypdf._reader:Ignoring wrong pointing object 410 0 (offset 0)\n",
            "WARNING:pypdf._reader:Ignoring wrong pointing object 418 0 (offset 0)\n",
            "WARNING:pypdf._reader:Ignoring wrong pointing object 420 0 (offset 0)\n",
            "WARNING:pypdf._reader:Ignoring wrong pointing object 429 0 (offset 0)\n",
            "WARNING:pypdf._reader:Ignoring wrong pointing object 437 0 (offset 0)\n",
            "WARNING:pypdf._reader:Ignoring wrong pointing object 440 0 (offset 0)\n",
            "INFO:werkzeug:127.0.0.1 - - [27/Nov/2024 20:21:20] \"POST /upload HTTP/1.1\" 200 -\n",
            "You seem to be using the pipelines sequentially on GPU. In order to maximize efficiency please use a dataset\n",
            "Setting `pad_token_id` to `eos_token_id`:None for open-end generation.\n",
            "INFO:werkzeug:127.0.0.1 - - [27/Nov/2024 20:21:46] \"POST /summarize HTTP/1.1\" 200 -\n",
            "WARNING:pypdf._reader:Ignoring wrong pointing object 25 0 (offset 0)\n",
            "WARNING:pypdf._reader:Ignoring wrong pointing object 33 0 (offset 0)\n",
            "WARNING:pypdf._reader:Ignoring wrong pointing object 40 0 (offset 0)\n",
            "WARNING:pypdf._reader:Ignoring wrong pointing object 66 0 (offset 0)\n",
            "WARNING:pypdf._reader:Ignoring wrong pointing object 68 0 (offset 0)\n",
            "WARNING:pypdf._reader:Ignoring wrong pointing object 83 0 (offset 0)\n",
            "WARNING:pypdf._reader:Ignoring wrong pointing object 99 0 (offset 0)\n",
            "WARNING:pypdf._reader:Ignoring wrong pointing object 135 0 (offset 0)\n",
            "WARNING:pypdf._reader:Ignoring wrong pointing object 143 0 (offset 0)\n",
            "INFO:werkzeug:127.0.0.1 - - [27/Nov/2024 23:01:39] \"POST /upload HTTP/1.1\" 200 -\n",
            "Setting `pad_token_id` to `eos_token_id`:None for open-end generation.\n",
            "INFO:werkzeug:127.0.0.1 - - [27/Nov/2024 23:02:24] \"POST /summarize HTTP/1.1\" 200 -\n"
          ]
        }
      ],
      "source": [
        "app.run()"
      ]
    },
    {
      "cell_type": "code",
      "execution_count": null,
      "metadata": {
        "id": "sJIoPbJ4Lzz7"
      },
      "outputs": [],
      "source": []
    }
  ],
  "metadata": {
    "accelerator": "GPU",
    "colab": {
      "gpuType": "A100",
      "machine_shape": "hm",
      "provenance": [],
      "include_colab_link": true
    },
    "kernelspec": {
      "display_name": "Python 3",
      "name": "python3"
    },
    "language_info": {
      "name": "python"
    }
  },
  "nbformat": 4,
  "nbformat_minor": 0
}